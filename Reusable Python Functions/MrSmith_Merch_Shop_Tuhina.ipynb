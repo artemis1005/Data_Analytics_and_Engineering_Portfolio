{
 "cells": [
  {
   "cell_type": "markdown",
   "metadata": {},
   "source": [
    "# Mr. Smith's Merchendise Shop\n",
    "\n",
    "In this notebook, I want to understand whether Mr Smith's shop carries any items that could be potentially fire-hazardous to assess the potential risks better.\n"
   ]
  },
  {
   "cell_type": "markdown",
   "metadata": {},
   "source": [
    "#### Step 1"
   ]
  },
  {
   "cell_type": "code",
   "execution_count": 9,
   "metadata": {},
   "outputs": [],
   "source": [
    "# Import necessary libraries\n",
    "import pandas as pd\n",
    "\n",
    "# Always import only the libraries needed to keep the environment clean and efficient."
   ]
  },
  {
   "cell_type": "markdown",
   "metadata": {},
   "source": [
    "#### Step 2"
   ]
  },
  {
   "cell_type": "code",
   "execution_count": 11,
   "metadata": {},
   "outputs": [
    {
     "name": "stdout",
     "output_type": "stream",
     "text": [
      "  StockCode                  Description\n",
      "0     10002   INFLATABLE POLITICAL GLOBE\n",
      "1     10080     GROOVY CACTUS INFLATABLE\n",
      "2     10120                 DOGGY RUBBER\n",
      "3    10123C         HEARTS WRAPPING TAPE\n",
      "4    10124A  SPOTS ON RED BOOKCOVER TAPE\n"
     ]
    }
   ],
   "source": [
    "# Reading the file with error handling\n",
    "try:\n",
    "    df = pd.read_csv(r'products.csv')\n",
    "except FileNotFoundError:\n",
    "    print(\"File not found. Please check the file path.\")\n",
    "# Use try-except blocks for error handling to handle potential issues like missing or incorrect file paths gracefully. \n",
    "\n",
    "print(df.head()) # Display the first few rows of the DataFrame to verify that it has loaded properly.\n",
    "# Always inspect the DataFrame after loading to ensure the data is correctly loaded."
   ]
  },
  {
   "cell_type": "markdown",
   "metadata": {},
   "source": [
    "#### Step 3"
   ]
  },
  {
   "cell_type": "code",
   "execution_count": 13,
   "metadata": {},
   "outputs": [
    {
     "name": "stdout",
     "output_type": "stream",
     "text": [
      "Index(['StockCode', 'Description'], dtype='object')\n"
     ]
    }
   ],
   "source": [
    "# Check columns in the DataFrame to ensure 'Description' exists. Before working with a specific column, ensure that it exists to avoid runtime errors.\n",
    "print(df.columns)"
   ]
  },
  {
   "cell_type": "markdown",
   "metadata": {},
   "source": [
    "#### Step 4"
   ]
  },
  {
   "cell_type": "code",
   "execution_count": 15,
   "metadata": {},
   "outputs": [],
   "source": [
    "# Define a reusable function to count occurrences of a keyword in the 'Description' column\n",
    "def count_occurrences(df, column_name, keyword):\n",
    "    \"\"\"\n",
    "    Function to count occurrences of a keyword in a specified column of a DataFrame.\n",
    "    \n",
    "    Parameters:\n",
    "    df (DataFrame): The DataFrame containing the data\n",
    "    column_name (str): The name of the column to search within\n",
    "    keyword (str): The keyword to search for\n",
    "    \n",
    "    Returns:\n",
    "    int: The count of rows containing the keyword\n",
    "    \"\"\"\n",
    "    return df[df[column_name].str.contains(keyword, case=False, na=False)].shape[0] \n",
    "    # Use case-insensitive string matching (case=False) to ensure all matches are captured regardless of case."
   ]
  },
  {
   "cell_type": "markdown",
   "metadata": {},
   "source": [
    "#### Step 5"
   ]
  },
  {
   "cell_type": "code",
   "execution_count": 17,
   "metadata": {},
   "outputs": [],
   "source": [
    "# Count occurrences of specific keywords in product descriptions. Use meaningful variable names to make the code readable and self-explanatory.\n",
    "fire_count = count_occurrences(df, 'Description', 'Fire')\n",
    "candle_count = count_occurrences(df, 'Description', 'candle')\n",
    "matches_count = count_occurrences(df, 'Description', 'matches')"
   ]
  },
  {
   "cell_type": "markdown",
   "metadata": {},
   "source": [
    "#### Step 6"
   ]
  },
  {
   "cell_type": "code",
   "execution_count": 19,
   "metadata": {},
   "outputs": [
    {
     "name": "stdout",
     "output_type": "stream",
     "text": [
      "Number of products with 'Fire' in the description: 9\n",
      "Number of products with 'candle' in the description: 178\n",
      "Number of products with 'matches' in the description: 6\n"
     ]
    }
   ],
   "source": [
    "# Output the results. Use formatted strings (f-strings) to output results in a readable format.\n",
    "print(f\"Number of products with 'Fire' in the description: {fire_count}\")\n",
    "print(f\"Number of products with 'candle' in the description: {candle_count}\")\n",
    "print(f\"Number of products with 'matches' in the description: {matches_count}\")"
   ]
  },
  {
   "cell_type": "markdown",
   "metadata": {},
   "source": [
    "#### Step 7"
   ]
  },
  {
   "cell_type": "code",
   "execution_count": 21,
   "metadata": {},
   "outputs": [
    {
     "data": {
      "text/markdown": [
       "\n",
       "### Business Observations\n",
       "\n",
       "**Question 1**: How many products contain the word \"Fire\" in their description?\n",
       "- There are **9** products that contain the word \"Fire\" in their description.\n",
       "- This information is crucial as products related to fire may pose a significant fire hazard, requiring a reevaluation of Mr. Smith's insurance policy.\n",
       "\n",
       "**Question 2**: How many products contain the word \"candle\" in their description?\n",
       "- There are **178** products containing the word \"candle\" in their description.\n",
       "- Since candles are often associated with fire-related risks, these products may also increase the fire hazard in Mr. Smith's shop.\n",
       "\n",
       "**Question 3**: How many products contain the word \"matches\" in their description?\n",
       "- There are **6** products that contain the word \"matches\" in their description.\n",
       "- Matches are an obvious fire hazard, and the presence of such products could have a significant impact on the assessment of Mr. Smith's insurance policy.\n"
      ],
      "text/plain": [
       "<IPython.core.display.Markdown object>"
      ]
     },
     "metadata": {},
     "output_type": "display_data"
    }
   ],
   "source": [
    "# Markdown content dynamically generated using f-strings\n",
    "markdown_content = f\"\"\"\n",
    "### Business Observations\n",
    "\n",
    "**Question 1**: How many products contain the word \"Fire\" in their description?\n",
    "- There are **{fire_count}** products that contain the word \"Fire\" in their description.\n",
    "- This information is crucial as products related to fire may pose a significant fire hazard, requiring a reevaluation of Mr. Smith's insurance policy.\n",
    "\n",
    "**Question 2**: How many products contain the word \"candle\" in their description?\n",
    "- There are **{candle_count}** products containing the word \"candle\" in their description.\n",
    "- Since candles are often associated with fire-related risks, these products may also increase the fire hazard in Mr. Smith's shop.\n",
    "\n",
    "**Question 3**: How many products contain the word \"matches\" in their description?\n",
    "- There are **{matches_count}** products that contain the word \"matches\" in their description.\n",
    "- Matches are an obvious fire hazard, and the presence of such products could have a significant impact on the assessment of Mr. Smith's insurance policy.\n",
    "\"\"\"\n",
    "\n",
    "# Display the markdown content\n",
    "from IPython.display import Markdown\n",
    "display(Markdown(markdown_content))"
   ]
  }
 ],
 "metadata": {
  "kernelspec": {
   "display_name": "Python 3 (ipykernel)",
   "language": "python",
   "name": "python3"
  },
  "language_info": {
   "codemirror_mode": {
    "name": "ipython",
    "version": 3
   },
   "file_extension": ".py",
   "mimetype": "text/x-python",
   "name": "python",
   "nbconvert_exporter": "python",
   "pygments_lexer": "ipython3",
   "version": "3.12.4"
  }
 },
 "nbformat": 4,
 "nbformat_minor": 4
}
