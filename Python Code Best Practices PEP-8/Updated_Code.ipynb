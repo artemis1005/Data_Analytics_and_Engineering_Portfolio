{
 "cells": [
  {
   "cell_type": "markdown",
   "id": "a451c662-3bc7-41b3-9af4-eeb25a451195",
   "metadata": {},
   "source": [
    "# **Evaluation of the provided code**\n"
   ]
  },
  {
   "cell_type": "markdown",
   "id": "69630a00-65b4-4eba-b1e2-ff6a272a86e2",
   "metadata": {},
   "source": [
    "This code is an attempt at creating a simple calculator in Python, but it contains a few errors that would prevent it from running correctly:\n",
    "\r\n",
    "1.\tFunction comments: The comments for the functions have inconsistent spacing and formatting. They should be more uniform for readability.\r\n",
    "2.\tMultiplication function comment: The comment for the multiply function is incorrectly formatted with an extra space before \"2numbers\".\r\n",
    "3.\tDivision function comment: The comment for the divide function has extra spaces and a hash symbol that is unnecessary.\r\n",
    "4.\tChoice variable case: The variable choice is defined but later referenced as CHOICE, which would result in a NameError. Python is case-sensitive.\r\n",
    "5.\tPrint statement for invalid input: The Print function should be in lowercase (print).\r\n",
    "6.\tInfinite loop: The while True: loop will keep running indefinitely unless there is a break statement. In this case, the break is placed incorrectly, meaning it will only break after a valid choice is made.\r\n",
    "7.\tDivision by zero: There is no error handling for division by zero, which could lead to a runtime error if the user inputs 0 as the second number when choosing the divide operation.\r\n"
   ]
  },
  {
   "cell_type": "markdown",
   "id": "655b695d-0998-42b5-a31b-1dce223f3ce4",
   "metadata": {},
   "source": [
    "## **Original code with in-line comments pointing out the instances that do not follow PEP 8 guidelines, along with suggestions for addressing these issues:**"
   ]
  },
  {
   "cell_type": "code",
   "execution_count": null,
   "id": "df4c233c-9cb9-4d34-b163-40c889cd0fcb",
   "metadata": {},
   "outputs": [],
   "source": [
    "# Program To Make Simple Calculator\n",
    "# This function adds 2numbers # Violation: Function comment should have a space after '2'.\n",
    "def add( x, y ):  # Violation: Space after parenthesis in function parameters\n",
    "    return x + y\n",
    "\n",
    "#This function subtracts  2 numbers # Violation: Extra space before '2 numbers'.\n",
    "def subtract(x, y):  \n",
    "    return x - y\n",
    "\n",
    "    # This function multipliers 2 numbers  # Violation: Incorrect function name; it should be 'multiplies'.\n",
    "def multiply(x, y):  \n",
    "    return x * y\n",
    "\n",
    "##This function divides  2numbers #  # Violation: Extra space before '2numbers', and comment should be on a separate line or consistent style.\n",
    "def divide(x, y):  \n",
    "    return x / y\n",
    "\n",
    "print( \"Select operation.\")  # Violation: No space before the opening parenthesis\n",
    "print( \"1. Add\")  # Violation: No space before the opening parenthesis\n",
    "print( \"2. Subtract\")  # Violation: No space before the opening parenthesis\n",
    "print( \"3. Multiply\")  # Violation: No space before the opening parenthesis\n",
    "print( \"4. Divide\")  # Violation: No space before the opening parenthesis\n",
    "\n",
    "while True:\n",
    "    choice = input  (\"Enter choice (1/2/3/4): \")  # Violation: Space before '(\"Enter choice(1/2/3/4):\")' is unnecessary.\n",
    "\n",
    "   # Check if choice is 1 of the four options by completing the following code in the IDE of your choice or notebook # Violation: Space not required\n",
    "    if choice in ('1', '2', '3', '4'):\n",
    "        Num1   = float(input(\"Enter first number: \"))  # Violation: Variable names should be lowercase and space before '=' is unnecessary\n",
    "        Num2   = float(input(\"Enter second number: \"))  # Violation: Variable names should be lowercase and space before '=' is unnecessary\n",
    "\n",
    "        if CHOICE == '1':  # Violation: Variable should be 'choice' (case-sensitive).\n",
    "            print(Num1, \"+\", Num2, \"=\", add( Num1, Num2 ))  # Violation: Spaces around operators are inconsistent.\n",
    "\n",
    "        elif CHOICE == '2':  # Violation: Variable should be 'choice' (case-sensitive).\n",
    "            print(Num1, \"-\", Num2, \"=\", subtract( Num1, Num2 ))  # Violation: Spaces around operators are inconsistent.\n",
    "\n",
    "        elif CHOICE == '3':  # Violation: Variable should be 'choice' (case-sensitive).\n",
    "            print(Num1, \"*\", Num2, \"=\", multiply( Num1, Num2 ))  # Violation: Spaces around operators are inconsistent.\n",
    "\n",
    "        elif CHOICE == '4':  # Violation: Variable should be 'choice' (case-sensitive).\n",
    "            print(Num1, \"/\", Num2, \"=\", divide( Num1, Num2 ))  # Violation: Spaces around operators are inconsistent.\n",
    "        break  \n",
    "    else:\n",
    "        print( \"Invalid Input\" )#this prints the invalid input....  \n",
    "        # Violation: Should be 'print' (case-sensitive) and inconsistent capitalization in messages along with unnecessary spaces.\n"
   ]
  },
  {
   "cell_type": "markdown",
   "id": "596564cf-4880-4313-b8c0-84a209ec169d",
   "metadata": {},
   "source": [
    "**Spaces**: Add spaces after commas and around operators for readability.\n",
    "\n",
    "**Variable names**: Use lowercase for variable names (e.g., num1, num2).\n",
    "\n",
    "**Typos**: Fix any typos in comments and function descriptions.\n",
    "\n",
    "**Consistent naming**: Ensure variable names match throughout the code (e.g., use choice consistently).\n",
    "\n",
    "**Print statement**: Ensure all keywords follow PEP 8 conventions (e.g., lowercase print)."
   ]
  },
  {
   "cell_type": "markdown",
   "id": "4b3723c9-d71d-4c1d-8351-a67cc32983cf",
   "metadata": {},
   "source": [
    "# **Rewriting the code block following PEP 8 guidelines**"
   ]
  },
  {
   "cell_type": "code",
   "execution_count": null,
   "id": "14fa2f2e-3616-408a-9d53-a6ee4400ed82",
   "metadata": {},
   "outputs": [],
   "source": [
    "# Program to make a simple calculator\n",
    "\n",
    "# This function adds two numbers\n",
    "def add(x, y):\n",
    "    return x + y\n",
    "\n",
    "# This function subtracts two numbers\n",
    "def subtract(x, y):\n",
    "    return x - y\n",
    "\n",
    "# This function multiplies two numbers\n",
    "def multiply(x, y):\n",
    "    return x * y\n",
    "\n",
    "# This function divides two numbers\n",
    "def divide(x, y):\n",
    "    return x / y\n",
    "\n",
    "print(\"Select operation.\")\n",
    "print(\"1. Add\")\n",
    "print(\"2. Subtract\")\n",
    "print(\"3. Multiply\")\n",
    "print(\"4. Divide\")\n",
    "\n",
    "while True:\n",
    "    choice = input(\"Enter choice (1/2/3/4): \")  # Take input from the user\n",
    "\n",
    "    # Check if choice is one of the four options\n",
    "    if choice in ('1', '2', '3', '4'):\n",
    "        num1 = float(input(\"Enter first number: \"))\n",
    "        num2 = float(input(\"Enter second number: \"))\n",
    "\n",
    "        if choice == '1':\n",
    "            print(num1, \"+\", num2, \"=\", add(num1, num2))\n",
    "        elif choice == '2':\n",
    "            print(num1, \"-\", num2, \"=\", subtract(num1, num2))\n",
    "        elif choice == '3':\n",
    "            print(num1, \"*\", num2, \"=\", multiply(num1, num2))\n",
    "        elif choice == '4':\n",
    "            print(num1, \"/\", num2, \"=\", divide(num1, num2))\n",
    "        break\n",
    "    else:\n",
    "        print(\"Invalid input\")  # This prints the invalid input\n"
   ]
  },
  {
   "cell_type": "code",
   "execution_count": null,
   "id": "18cff432-7445-44a2-afbd-c8d2349a02ff",
   "metadata": {},
   "outputs": [],
   "source": []
  }
 ],
 "metadata": {
  "kernelspec": {
   "display_name": "Python 3 (ipykernel)",
   "language": "python",
   "name": "python3"
  },
  "language_info": {
   "codemirror_mode": {
    "name": "ipython",
    "version": 3
   },
   "file_extension": ".py",
   "mimetype": "text/x-python",
   "name": "python",
   "nbconvert_exporter": "python",
   "pygments_lexer": "ipython3",
   "version": "3.12.4"
  }
 },
 "nbformat": 4,
 "nbformat_minor": 5
}
